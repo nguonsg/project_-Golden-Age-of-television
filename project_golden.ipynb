{
 "cells": [
  {
   "cell_type": "markdown",
   "id": "db15b2c7",
   "metadata": {},
   "source": [
    "<div style=\"border:solid green 2px; padding: 20px\"> <h1 style=\"color:green; margin-bottom:20px\">Reviewer's comment v1</h1>\n",
    "\n",
    "Hello Sun!\n",
    "\n",
    "I'm happy to review your project today  🙌\n",
    "\n",
    "You can find my comments under the heading **«Review»**. I will categorize my comments in green, blue or red boxes like this:\n",
    "\n",
    "<div class=\"alert alert-success\">\n",
    "    <b>Success:</b> if everything is done successfully\n",
    "</div>\n",
    "<div class=\"alert alert-warning\">\n",
    "    <b>Remarks:</b> if I can give some recommendations or ways to improve the project\n",
    "</div>\n",
    "<div class=\"alert alert-danger\">\n",
    "    <b>Needs fixing:</b> if the block requires some corrections. Work can't be accepted with the red comments\n",
    "</div>\n",
    "\n",
    "Please don't remove my comments. If you have any questions, don't hesitate to respond to my comments in a different section.\n",
    "<div class=\"alert alert-info\"> <b>Student comments: </div>    \n"
   ]
  },
  {
   "cell_type": "markdown",
   "id": "5376a723",
   "metadata": {},
   "source": [
    "<div style=\"border:solid green 2px; padding: 20px\">\n",
    "<b>Reviewer's comment v1</b>\n",
    "    \n",
    "<b>Overall Feedback</b> \n",
    "    \n",
    "    \n",
    "Hello Sun,\n",
    "\n",
    "First of all, congratulations on submitting your very first project! 🎉\n",
    "\n",
    "Taking this step is a big part of your journey into the world of Data, and it’s clear you’re putting in the effort to succeed.\n",
    "\n",
    "Our team is here to support your growth, and to help you get the most out of this experience, I’ve returned your project with some suggestions for improvement.\n",
    "    \n",
    "You’ll find specific feedback in the notebook in the ‘Comments’ (`Reviewer's comment v1`) sections.\n",
    "    \n",
    "**What Was Great:**\n",
    "\n",
    "- Comprehensive Data Preparation: You demonstrated a meticulous approach to data loading, cleaning, and preparation. Ensuring the data was in optimal condition allowed for a robust analysis, which strengthened the validity of your conclusions.\n",
    "- Effective Handling of Outliers: You correctly identified and excluded outliers (duplicates, missing values), which could have skewed the results, ensuring a more accurate and meaningful analysis.\n",
    "    \n",
    "**Areas to Improve:**\n",
    "\n",
    "- Complete the final task of the project. \n",
    "   \n",
    "Don’t be discouraged - this is all part of the learning process! Take your time to review the feedback and make the necessary adjustments. Resubmit when you’re ready, and I’m confident you’ll nail it on the next go. Remember, every challenge is an opportunity to grow. You’ve got this! 🏄\n",
    "    \n",
    "And of course, if you have any questions along the way, remember that you can always reach out to your tutor for clarification.\n",
    "</div>"
   ]
  },
  {
   "cell_type": "markdown",
   "id": "1c34f4b9",
   "metadata": {},
   "source": [
    "<div style=\"border:solid green 2px; padding: 20px\">\n",
    "<b>Reviewer's comment v2:</b>\n",
    "    \n",
    "<b>Overall Feedback</b> \n",
    "\n",
    "Thank you for making all improvements in your project! It looks perfect now and there are no critical issues. \n",
    "    \n",
    "Please keep up great work and don't hesitate to use this project as a reference in your future sprints. \n",
    "   \n",
    "Good luck on the next project 🍀 \n",
    "</div>"
   ]
  },
  {
   "cell_type": "markdown",
   "id": "f85a80d2",
   "metadata": {},
   "source": [
    "## Basic Python - Project <a id='intro'></a>"
   ]
  },
  {
   "cell_type": "markdown",
   "id": "a1262df4",
   "metadata": {},
   "source": [
    "## Introduction <a id='intro'></a>\n",
    "In this project, you will work with data from the entertainment industry. You will study a dataset with records on movies and shows. The research will focus on the \"Golden Age\" of television, which began in 1999 with the release of *The Sopranos* and is still ongoing.\n",
    "\n",
    "The aim of this project is to investigate how the number of votes a title receives impacts its ratings. The assumption is that highly-rated shows (we will focus on TV shows, ignoring movies) released during the \"Golden Age\" of television also have the most votes.\n",
    "\n",
    "### Stages \n",
    "Data on movies and shows is stored in the `/datasets/movies_and_shows.csv` file. There is no information about the quality of the data, so you will need to explore it before doing the analysis.\n",
    "\n",
    "First, you'll evaluate the quality of the data and see whether its issues are significant. Then, during data preprocessing, you will try to account for the most critical problems.\n",
    " \n",
    "Your project will consist of three stages:\n",
    " 1. Data overview\n",
    " 2. Data preprocessing\n",
    " 3. Data analysis"
   ]
  },
  {
   "cell_type": "markdown",
   "id": "826310d2",
   "metadata": {},
   "source": [
    "<div class=\"alert alert-success\">\n",
    "<b>Reviewer's comment v1:</b>\n",
    "    \n",
    "It is always helpful for the reader to have additional information about project tasks. It gives an overview of what you are going to achieve in this project.\n"
   ]
  },
  {
   "cell_type": "markdown",
   "id": "ac0593ac",
   "metadata": {},
   "source": [
    "## Stage 1. Data overview <a id='data_review'></a>\n",
    "\n",
    "Open and explore the data."
   ]
  },
  {
   "cell_type": "markdown",
   "id": "e86ed00e",
   "metadata": {},
   "source": [
    "You'll need `pandas`, so import it."
   ]
  },
  {
   "cell_type": "code",
   "execution_count": 1,
   "id": "1727d3f8",
   "metadata": {},
   "outputs": [],
   "source": [
    "# importing pandas\n",
    "import pandas as pd"
   ]
  },
  {
   "cell_type": "code",
   "execution_count": 2,
   "id": "fc5a1402",
   "metadata": {},
   "outputs": [],
   "source": [
    "# reading the files and storing them to df\n",
    "df = pd.read_csv('/datasets/movies_and_shows.csv')"
   ]
  },
  {
   "cell_type": "markdown",
   "id": "1cd0a96d",
   "metadata": {},
   "source": [
    "Print the first 10 table rows:"
   ]
  },
  {
   "cell_type": "code",
   "execution_count": 3,
   "id": "acd92001",
   "metadata": {},
   "outputs": [
    {
     "name": "stdout",
     "output_type": "stream",
     "text": [
      "              name                      Character   r0le        TITLE   Type  \\\n",
      "0   Robert De Niro                  Travis Bickle  ACTOR  Taxi Driver  MOVIE   \n",
      "1     Jodie Foster                  Iris Steensma  ACTOR  Taxi Driver  MOVIE   \n",
      "2    Albert Brooks                            Tom  ACTOR  Taxi Driver  MOVIE   \n",
      "3    Harvey Keitel        Matthew 'Sport' Higgins  ACTOR  Taxi Driver  MOVIE   \n",
      "4  Cybill Shepherd                          Betsy  ACTOR  Taxi Driver  MOVIE   \n",
      "5      Peter Boyle                         Wizard  ACTOR  Taxi Driver  MOVIE   \n",
      "6   Leonard Harris      Senator Charles Palantine  ACTOR  Taxi Driver  MOVIE   \n",
      "7   Diahnne Abbott                Concession Girl  ACTOR  Taxi Driver  MOVIE   \n",
      "8      Gino Ardito             Policeman at Rally  ACTOR  Taxi Driver  MOVIE   \n",
      "9  Martin Scorsese  Passenger Watching Silhouette  ACTOR  Taxi Driver  MOVIE   \n",
      "\n",
      "   release Year              genres  imdb sc0re  imdb v0tes  \n",
      "0          1976  ['drama', 'crime']         8.2    808582.0  \n",
      "1          1976  ['drama', 'crime']         8.2    808582.0  \n",
      "2          1976  ['drama', 'crime']         8.2    808582.0  \n",
      "3          1976  ['drama', 'crime']         8.2    808582.0  \n",
      "4          1976  ['drama', 'crime']         8.2    808582.0  \n",
      "5          1976  ['drama', 'crime']         8.2    808582.0  \n",
      "6          1976  ['drama', 'crime']         8.2    808582.0  \n",
      "7          1976  ['drama', 'crime']         8.2    808582.0  \n",
      "8          1976  ['drama', 'crime']         8.2    808582.0  \n",
      "9          1976  ['drama', 'crime']         8.2    808582.0  \n"
     ]
    }
   ],
   "source": [
    "# obtaining the first 10 rows from the df table\n",
    "# hint: you can use head() and tail() in Jupyter Notebook without wrapping them into print()\n",
    "print(df.head(10))"
   ]
  },
  {
   "cell_type": "markdown",
   "id": "e579aa91",
   "metadata": {},
   "source": [
    "Obtain the general information about the table with one command:"
   ]
  },
  {
   "cell_type": "code",
   "execution_count": 4,
   "id": "7bf66d2a",
   "metadata": {},
   "outputs": [
    {
     "name": "stdout",
     "output_type": "stream",
     "text": [
      "<class 'pandas.core.frame.DataFrame'>\n",
      "RangeIndex: 85579 entries, 0 to 85578\n",
      "Data columns (total 9 columns):\n",
      " #   Column        Non-Null Count  Dtype  \n",
      "---  ------        --------------  -----  \n",
      " 0      name       85579 non-null  object \n",
      " 1   Character     85579 non-null  object \n",
      " 2   r0le          85579 non-null  object \n",
      " 3   TITLE         85578 non-null  object \n",
      " 4     Type        85579 non-null  object \n",
      " 5   release Year  85579 non-null  int64  \n",
      " 6   genres        85579 non-null  object \n",
      " 7   imdb sc0re    80970 non-null  float64\n",
      " 8   imdb v0tes    80853 non-null  float64\n",
      "dtypes: float64(2), int64(1), object(6)\n",
      "memory usage: 5.9+ MB\n",
      "None\n"
     ]
    }
   ],
   "source": [
    "# obtaining general information about the data in df\n",
    "print(df.info())"
   ]
  },
  {
   "cell_type": "markdown",
   "id": "9821beeb",
   "metadata": {},
   "source": [
    "Read the `movies_and_shows.csv` file from the `datasets` folder and save it in the `df` variable:"
   ]
  },
  {
   "cell_type": "markdown",
   "id": "e91f62a7",
   "metadata": {},
   "source": [
    "The table contains nine columns. The majority store the same data type: object. The only exceptions are `'release Year'` (int64 type), `'imdb sc0re'` (float64 type) and `'imdb v0tes'` (float64 type). Scores and votes will be used in our analysis, so it's important to verify that they are present in the dataframe in the appropriate numeric format. Three columns (`'TITLE'`, `'imdb sc0re'` and `'imdb v0tes'`) have missing values.\n",
    "\n",
    "According to the documentation:\n",
    "- `'name'` — actor/director's name and last name\n",
    "- `'Character'` — character played (for actors)\n",
    "- `'r0le '` — the person's contribution to the title (it can be in the capacity of either actor or director)\n",
    "- `'TITLE '` — title of the movie (show)\n",
    "- `'  Type'` — show or movie\n",
    "- `'release Year'` — year when movie (show) was released\n",
    "- `'genres'` — list of genres under which the movie (show) falls\n",
    "- `'imdb sc0re'` — score on IMDb\n",
    "- `'imdb v0tes'` — votes on IMDb\n",
    "\n",
    "We can see three issues with the column names:\n",
    "1. Some names are uppercase, while others are lowercase.\n",
    "2. There are names containing whitespace.\n",
    "3. A few column names have digit '0' instead of letter 'o'. \n"
   ]
  },
  {
   "cell_type": "markdown",
   "id": "4355de7b",
   "metadata": {},
   "source": [
    "### Conclusions <a id='data_review_conclusions'></a> \n",
    "\n",
    "Each row in the table stores data about a movie or show. The columns can be divided into two categories: the first is about the roles held by different people who worked on the movie or show (role, name of the actor or director, and character if the row is about an actor); the second category is information about the movie or show itself (title, release year, genre, imdb figures).\n",
    "\n",
    "It's clear that there is sufficient data to do the analysis and evaluate our assumption. However, to move forward, we need to preprocess the data."
   ]
  },
  {
   "cell_type": "markdown",
   "id": "22c9d8d5",
   "metadata": {},
   "source": [
    "<div class=\"alert alert-success\">\n",
    "<b>Reviewer's comment v1:</b>\n",
    "    \n",
    "Great data overview and correct conclusions. "
   ]
  },
  {
   "cell_type": "markdown",
   "id": "c5dc9111",
   "metadata": {},
   "source": [
    "## Stage 2. Data preprocessing <a id='data_preprocessing'></a>\n",
    "Correct the formatting in the column headers and deal with the missing values. Then, check whether there are duplicates in the data."
   ]
  },
  {
   "cell_type": "code",
   "execution_count": 5,
   "id": "9c850d13",
   "metadata": {},
   "outputs": [
    {
     "name": "stdout",
     "output_type": "stream",
     "text": [
      "Index(['   name', 'Character', 'r0le', 'TITLE', '  Type', 'release Year',\n",
      "       'genres', 'imdb sc0re', 'imdb v0tes'],\n",
      "      dtype='object')\n"
     ]
    }
   ],
   "source": [
    "# the list of column names in the df table\n",
    "print(df.columns)"
   ]
  },
  {
   "cell_type": "markdown",
   "id": "5f966df9",
   "metadata": {},
   "source": [
    "Change the column names according to the rules of good style:\n",
    "* If the name has several words, use snake_case\n",
    "* All characters must be lowercase\n",
    "* Remove whitespace\n",
    "* Replace zero with letter 'o'"
   ]
  },
  {
   "cell_type": "code",
   "execution_count": 6,
   "id": "23a1dc11",
   "metadata": {},
   "outputs": [],
   "source": [
    "# renaming columns\n",
    "df.columns = df.columns.str.lower().str.strip().str.replace(' ', '_').str.replace('0', 'o')\n"
   ]
  },
  {
   "cell_type": "markdown",
   "id": "464fbd04",
   "metadata": {},
   "source": [
    "Check the result. Print the names of the columns once more:"
   ]
  },
  {
   "cell_type": "code",
   "execution_count": 7,
   "id": "0eb6527f",
   "metadata": {},
   "outputs": [
    {
     "name": "stdout",
     "output_type": "stream",
     "text": [
      "Index(['name', 'character', 'role', 'title', 'type', 'release_year', 'genres',\n",
      "       'imdb_score', 'imdb_votes'],\n",
      "      dtype='object')\n"
     ]
    }
   ],
   "source": [
    "# checking result: the list of column names\n",
    "print(df.columns)"
   ]
  },
  {
   "cell_type": "markdown",
   "id": "19bd04c5",
   "metadata": {},
   "source": [
    "<div class=\"alert alert-success\">\n",
    "<b>Reviewer's comment v1:</b>\n",
    "    \n",
    "It is great that you correctly applied `replace` function.  As a second approach `rename` function could be used. "
   ]
  },
  {
   "cell_type": "markdown",
   "id": "14d9c319",
   "metadata": {},
   "source": [
    "### Missing values <a id='missing_values'></a>\n",
    "First, find the number of missing values in the table. To do so, combine two `pandas` methods:"
   ]
  },
  {
   "cell_type": "code",
   "execution_count": 8,
   "id": "21c427f2",
   "metadata": {},
   "outputs": [
    {
     "name": "stdout",
     "output_type": "stream",
     "text": [
      "Number of missing values in each column:\n",
      " name               0\n",
      "character          0\n",
      "role               0\n",
      "title              1\n",
      "type               0\n",
      "release_year       0\n",
      "genres             0\n",
      "imdb_score      4609\n",
      "imdb_votes      4726\n",
      "dtype: int64\n"
     ]
    }
   ],
   "source": [
    "# calculating missing values\n",
    "missing_values = df.isnull().sum()\n",
    "print(\"Number of missing values in each column:\\n\", missing_values)"
   ]
  },
  {
   "cell_type": "markdown",
   "id": "bc12bb7d",
   "metadata": {},
   "source": [
    "<div class=\"alert alert-success\">\n",
    "<b>Reviewer's comment v1</b>\n",
    "    \n",
    "Great that you selected `isna()` method to find missing values! \n",
    "\n",
    "It is also sometimes helpful to check not only the total amount of missing values in each column but also look at the percentage of missing values. It helps to understand the overall impact. You can check percentage using, for example, this code:\n",
    "\n",
    "`df.isnull().sum()/len(df)`"
   ]
  },
  {
   "cell_type": "markdown",
   "id": "c8272df3",
   "metadata": {},
   "source": [
    "We identified missing values in several columns. While the missing value in `'title'` isn't critical, missing values in `'imdb_score'` and `'imdb_votes'` affect around 6% of the data, which could impact our analysis. To ensure data integrity, we'll drop all rows with missing values."
   ]
  },
  {
   "cell_type": "code",
   "execution_count": 9,
   "id": "599d5550",
   "metadata": {},
   "outputs": [],
   "source": [
    "# dropping rows where columns with scores, and votes have missing values\n",
    "df_cleaned = df.dropna(subset=['imdb_score', 'imdb_votes'])"
   ]
  },
  {
   "cell_type": "markdown",
   "id": "2156887f",
   "metadata": {},
   "source": [
    "Make sure the table doesn't contain any more missing values. Count the missing values again."
   ]
  },
  {
   "cell_type": "code",
   "execution_count": 10,
   "id": "55c0b0ce",
   "metadata": {},
   "outputs": [
    {
     "name": "stdout",
     "output_type": "stream",
     "text": [
      "missing values after cleaning:\n",
      " name            0\n",
      "character       0\n",
      "role            0\n",
      "title           0\n",
      "type            0\n",
      "release_year    0\n",
      "genres          0\n",
      "imdb_score      0\n",
      "imdb_votes      0\n",
      "dtype: int64\n"
     ]
    }
   ],
   "source": [
    "# counting missing values\n",
    "count_missing_values = df_cleaned.isnull().sum()\n",
    "print(\"missing values after cleaning:\\n\", count_missing_values)"
   ]
  },
  {
   "cell_type": "markdown",
   "id": "ed9c3fc7",
   "metadata": {},
   "source": [
    "<div class=\"alert alert-success\">\n",
    "<b>Reviewer's comment v1:</b>\n",
    "    \n",
    "Everything is correct here!"
   ]
  },
  {
   "cell_type": "markdown",
   "id": "a7dc7aa0",
   "metadata": {},
   "source": [
    "### Duplicates <a id='duplicates'></a>\n",
    "Find the number of duplicate rows in the table using one command:"
   ]
  },
  {
   "cell_type": "code",
   "execution_count": 11,
   "id": "9227df01",
   "metadata": {},
   "outputs": [
    {
     "name": "stdout",
     "output_type": "stream",
     "text": [
      "number of duplication: 7675\n"
     ]
    }
   ],
   "source": [
    "# counting duplicate rows\n",
    "duplicate_count = df.duplicated().sum()\n",
    "print(f\"number of duplication: {duplicate_count}\")"
   ]
  },
  {
   "cell_type": "markdown",
   "id": "5f6eb0fc",
   "metadata": {},
   "source": [
    "Review the duplicate rows to determine if removing them would distort our dataset."
   ]
  },
  {
   "cell_type": "code",
   "execution_count": 12,
   "id": "bcf32fcb",
   "metadata": {},
   "outputs": [
    {
     "name": "stdout",
     "output_type": "stream",
     "text": [
      "last 5 row of the duplicate table \n",
      "                       name                 character   role    title   type  \\\n",
      "85569       Jessica Cediel           Liliana Navarro  ACTOR  Lokillo  MOVIE   \n",
      "85570  Javier Gardeaz?­bal  Agust??n \"Peluca\" Ort??z  ACTOR  Lokillo  MOVIE   \n",
      "85571        Carla Giraldo            Valery Reinoso  ACTOR  Lokillo  MOVIE   \n",
      "85572  Ana Mar??a S?­nchez                   Lourdes  ACTOR  Lokillo  MOVIE   \n",
      "85577         Isabel Gaona                    Cacica  ACTOR  Lokillo  MOVIE   \n",
      "\n",
      "       release_year      genres  imdb_score  imdb_votes  \n",
      "85569          2021  ['comedy']         3.8        68.0  \n",
      "85570          2021  ['comedy']         3.8        68.0  \n",
      "85571          2021  ['comedy']         3.8        68.0  \n",
      "85572          2021  ['comedy']         3.8        68.0  \n",
      "85577          2021  ['comedy']         3.8        68.0  \n"
     ]
    }
   ],
   "source": [
    "# Produce table with duplicates (with original rows included) and review last 5 rows\n",
    "duplicated_last_5_rows = df[df.duplicated(keep=False)]\n",
    "print(\"last 5 row of the duplicate table \\n\", duplicated_last_5_rows.tail())\n"
   ]
  },
  {
   "cell_type": "markdown",
   "id": "a1ed6640",
   "metadata": {},
   "source": [
    "There are two clear duplicates in the printed rows. We can safely remove them.\n",
    "Call the `pandas` method for getting rid of duplicate rows:"
   ]
  },
  {
   "cell_type": "code",
   "execution_count": 13,
   "id": "724d5bc8",
   "metadata": {},
   "outputs": [],
   "source": [
    "# removing duplicate rows\n",
    "df_drop_duple = df.drop_duplicates()"
   ]
  },
  {
   "cell_type": "markdown",
   "id": "fa555780",
   "metadata": {},
   "source": [
    "<div class=\"alert alert-warning\">\n",
    "<b>Reviewer's comment v1</b>\n",
    "    \n",
    "Note that it is also required additionally to re-create the indexes in your dataframe. To achieve that, you can use `reset_index()`.\n",
    "    \n",
    "Without that, the index column will not be ordinal anymore, as `drop_duplicates()` deleted some lines, hence the dataframe becomes less informative.\n",
    "    \n",
    "    \n",
    "You can read about it here: https://pandas.pydata.org/docs/reference/api/pandas.DataFrame.reset_index.html\n",
    "    \n",
    "And parameter `drop=True` could be helpful to rewrite existent index instead of creating a second ordinal column.\n"
   ]
  },
  {
   "cell_type": "markdown",
   "id": "fc8c77ba",
   "metadata": {},
   "source": [
    "Check for duplicate rows once more to make sure you have removed all of them:"
   ]
  },
  {
   "cell_type": "code",
   "execution_count": 14,
   "id": "8091a9bc",
   "metadata": {},
   "outputs": [
    {
     "name": "stdout",
     "output_type": "stream",
     "text": [
      "number of after duplicate row cleaning 0\n"
     ]
    }
   ],
   "source": [
    "# checking for duplicates\n",
    "check_duple = df_drop_duple.duplicated().sum()\n",
    "print(f\"number of after duplicate row cleaning {check_duple}\")"
   ]
  },
  {
   "cell_type": "markdown",
   "id": "d389993d",
   "metadata": {},
   "source": [
    "<div class=\"alert alert-success\">\n",
    "<b>Reviewer's comment v1</b>\n",
    "\n",
    "Duplicates have been correctly removed. "
   ]
  },
  {
   "cell_type": "markdown",
   "id": "1d802b07",
   "metadata": {},
   "source": [
    "Now get rid of implicit duplicates in the `'type'` column. For example, the string `'SHOW'` can be written in different ways. These kinds of errors will also affect the result."
   ]
  },
  {
   "cell_type": "markdown",
   "id": "d5f987ed",
   "metadata": {},
   "source": [
    "Print a list of unique `'type'` names, sorted in alphabetical order. To do so:\n",
    "* Retrieve the intended dataframe column \n",
    "* Apply a sorting method to it\n",
    "* For the sorted column, call the method that will return all unique column values"
   ]
  },
  {
   "cell_type": "code",
   "execution_count": 15,
   "id": "3d7b0ac5",
   "metadata": {},
   "outputs": [],
   "source": [
    "# viewing unique type names\n",
    "unique_types = sorted(df_cleaned['type'].unique())\n"
   ]
  },
  {
   "cell_type": "markdown",
   "id": "ac6e8b18",
   "metadata": {},
   "source": [
    "Look through the list to find implicit duplicates of `'show'` (`'movie'` duplicates will be ignored since the assumption is about shows). These could be names written incorrectly or alternative names of the same genre.\n",
    "\n",
    "You will see the following implicit duplicates:\n",
    "* `'shows'`\n",
    "* `'SHOW'`\n",
    "* `'tv show'`\n",
    "* `'tv shows'`\n",
    "* `'tv series'`\n",
    "* `'tv'`\n",
    "\n",
    "To get rid of them, declare the function `replace_wrong_show()` with two parameters: \n",
    "* `wrong_shows_list=` — the list of duplicates\n",
    "* `correct_show=` — the string with the correct value\n",
    "\n",
    "The function should correct the names in the `'type'` column from the `df` table (i.e., replace each value from the `wrong_shows_list` list with the value in `correct_show`)."
   ]
  },
  {
   "cell_type": "code",
   "execution_count": 16,
   "id": "bff944f9",
   "metadata": {},
   "outputs": [],
   "source": [
    "# function for replacing implicit duplicates\n",
    "def replace_wrong_show(df, wrong_shows_list, correct_show):\n",
    "    df['type'] = df['type'].replace(wrong_shows_list, correct_show)\n",
    "    return df\n",
    "\n",
    "wrong_shows_list = ['SHOW', 'shows', 'tv show', 'tv shows', 'tv series', 'tv', 'Tv show', 'Tv series', 'tv SHOW']\n"
   ]
  },
  {
   "cell_type": "markdown",
   "id": "d02d13a6",
   "metadata": {},
   "source": [
    "Call `replace_wrong_show()` and pass it arguments so that it clears implicit duplicates and replaces them with `SHOW`:"
   ]
  },
  {
   "cell_type": "code",
   "execution_count": 17,
   "id": "a2217e53",
   "metadata": {},
   "outputs": [],
   "source": [
    "# removing implicit duplicates\n",
    "df_cleaned = replace_wrong_show(df, wrong_shows_list, 'SHOW')"
   ]
  },
  {
   "cell_type": "markdown",
   "id": "318b09f7",
   "metadata": {},
   "source": [
    "Make sure the duplicate names are removed. Print the list of unique values from the `'type'` column:"
   ]
  },
  {
   "cell_type": "code",
   "execution_count": 18,
   "id": "25d49d73",
   "metadata": {},
   "outputs": [
    {
     "name": "stdout",
     "output_type": "stream",
     "text": [
      "Unique 'type' values after cleaning: ['MOVIE', 'SHOW', 'movies', 'the movie']\n"
     ]
    }
   ],
   "source": [
    "# viewing unique genre names\n",
    "unique_types_after = sorted(df_cleaned['type'].unique())\n",
    "print(\"Unique 'type' values after cleaning:\", unique_types_after)"
   ]
  },
  {
   "cell_type": "markdown",
   "id": "a88e475e",
   "metadata": {},
   "source": [
    "<div class=\"alert alert-success\">\n",
    "<b>Reviewer's comment v1</b>\n",
    "    \n",
    "Your function works perfectly fine.\n",
    "    \n",
    "    "
   ]
  },
  {
   "cell_type": "markdown",
   "id": "18b2049e",
   "metadata": {},
   "source": [
    "### Conclusions <a id='data_preprocessing_conclusions'></a>\n",
    "We detected three issues with the data:\n",
    "\n",
    "- Incorrect header styles\n",
    "- Missing values\n",
    "- Duplicate rows and implicit duplicates\n",
    "\n",
    "The headers have been cleaned up to make processing the table simpler.\n",
    "\n",
    "All rows with missing values have been removed. \n",
    "\n",
    "The absence of duplicates will make the results more precise and easier to understand.\n",
    "\n",
    "Now we can move on to our analysis of the prepared data."
   ]
  },
  {
   "cell_type": "markdown",
   "id": "1aa0f1b1",
   "metadata": {},
   "source": [
    "## Stage 3. Data analysis <a id='hypotheses'></a>"
   ]
  },
  {
   "cell_type": "markdown",
   "id": "f8fb6a0e",
   "metadata": {},
   "source": [
    "Based on the previous project stages, you can now define how the assumption will be checked. Calculate the average amount of votes for each score (this data is available in the `imdb_score` and `imdb_votes` columns), and then check how these averages relate to each other. If the averages for shows with the highest scores are bigger than those for shows with lower scores, the assumption appears to be true.\n",
    "\n",
    "Based on this, complete the following steps:\n",
    "\n",
    "- Filter the dataframe to only include shows released in 1999 or later.\n",
    "- Group scores into buckets by rounding the values of the appropriate column (a set of 1-10 integers will help us make the outcome of our calculations more evident without damaging the quality of our research).\n",
    "- Identify outliers among scores based on their number of votes, and exclude scores with few votes.\n",
    "- Calculate the average votes for each score and check whether the assumption matches the results."
   ]
  },
  {
   "cell_type": "markdown",
   "id": "0ea2cb51",
   "metadata": {},
   "source": [
    "To filter the dataframe and only include shows released in 1999 or later, you will take two steps. First, keep only titles published in 1999 or later in our dataframe. Then, filter the table to only contain shows (movies will be removed)."
   ]
  },
  {
   "cell_type": "code",
   "execution_count": 19,
   "id": "6a704aa1",
   "metadata": {},
   "outputs": [],
   "source": [
    "# using conditional indexing modify df so it has only titles released after 1999 (with 1999 included)\n",
    "# give the slice of dataframe new name\n",
    "filtered_df = df[df['release_year'] >= 1999]"
   ]
  },
  {
   "cell_type": "code",
   "execution_count": 20,
   "id": "128dc6a9",
   "metadata": {
    "scrolled": true
   },
   "outputs": [
    {
     "name": "stdout",
     "output_type": "stream",
     "text": [
      "                      name                character      role      title  \\\n",
      "1664           Jeff Probst           Himself - Host     ACTOR   Survivor   \n",
      "2076         Mayumi Tanaka  Monkey D. Luffy (voice)     ACTOR  One Piece   \n",
      "2077          Kazuya Nakai     Roronoa Zoro (voice)     ACTOR  One Piece   \n",
      "2078         Akemi Okamura             Nami (voice)     ACTOR  One Piece   \n",
      "2079      Kappei Yamaguchi            Usopp (voice)     ACTOR  One Piece   \n",
      "...                    ...                      ...       ...        ...   \n",
      "85433     Maneerat Kam-Uan                       Ae     ACTOR  Let's Eat   \n",
      "85434    Rudklao Amratisha                  unknown     ACTOR  Let's Eat   \n",
      "85435      Jaturong Mokjok                  unknown     ACTOR  Let's Eat   \n",
      "85436     Pisamai Wilaisak                  unknown     ACTOR  Let's Eat   \n",
      "85437  Sarawut Wichiensarn                  unknown  DIRECTOR  Let's Eat   \n",
      "\n",
      "       type  release_year                                             genres  \\\n",
      "1664   SHOW          2000                                        ['reality']   \n",
      "2076   SHOW          1999  ['animation', 'action', 'comedy', 'drama', 'fa...   \n",
      "2077   SHOW          1999  ['animation', 'action', 'comedy', 'drama', 'fa...   \n",
      "2078   SHOW          1999  ['animation', 'action', 'comedy', 'drama', 'fa...   \n",
      "2079   SHOW          1999  ['animation', 'action', 'comedy', 'drama', 'fa...   \n",
      "...     ...           ...                                                ...   \n",
      "85433  SHOW          2021                                ['drama', 'comedy']   \n",
      "85434  SHOW          2021                                ['drama', 'comedy']   \n",
      "85435  SHOW          2021                                ['drama', 'comedy']   \n",
      "85436  SHOW          2021                                ['drama', 'comedy']   \n",
      "85437  SHOW          2021                                ['drama', 'comedy']   \n",
      "\n",
      "       imdb_score  imdb_votes  \n",
      "1664          7.4     24687.0  \n",
      "2076          8.8    117129.0  \n",
      "2077          8.8    117129.0  \n",
      "2078          8.8    117129.0  \n",
      "2079          8.8    117129.0  \n",
      "...           ...         ...  \n",
      "85433         8.2         5.0  \n",
      "85434         8.2         5.0  \n",
      "85435         8.2         5.0  \n",
      "85436         8.2         5.0  \n",
      "85437         8.2         5.0  \n",
      "\n",
      "[16413 rows x 9 columns]\n"
     ]
    }
   ],
   "source": [
    "# repeat conditional indexing so df has only shows (movies are removed as result)\n",
    "filtered_df = filtered_df[filtered_df['type'] == 'SHOW']\n",
    "print(filtered_df)"
   ]
  },
  {
   "cell_type": "markdown",
   "id": "045b4256",
   "metadata": {},
   "source": [
    "<div class=\"alert alert-success\">\n",
    "<b>Reviewer's comment v1</b>\n",
    "\n",
    "You've filterd the data required data correctly. \n",
    "\n",
    "\n",
    "Additionally there are other methods that could be helpful to filter your data, for example:`query()`.\n",
    "\n",
    "    \n",
    "`df = df.query('type == \"SHOW\"')`\n",
    "    \n",
    "You can read about them additionally here: \n",
    "https://towardsdatascience.com/10-examples-that-will-make-you-use-pandas-query-function-more-often-a8fb3e9361cb\n",
    "https://towardsdatascience.com/how-to-use-loc-and-iloc-for-selecting-data-in-pandas-bd09cb4c3d79    \n"
   ]
  },
  {
   "cell_type": "markdown",
   "id": "9648040c",
   "metadata": {},
   "source": [
    "The scores that are to be grouped should be rounded. For instance, titles with scores like 7.8, 8.1, and 8.3 will all be placed in the same bucket with a score of 8."
   ]
  },
  {
   "cell_type": "code",
   "execution_count": 21,
   "id": "54bbd5c0",
   "metadata": {},
   "outputs": [
    {
     "name": "stdout",
     "output_type": "stream",
     "text": [
      "                      name character      role      title  type  release_year  \\\n",
      "85433     Maneerat Kam-Uan        Ae     ACTOR  Let's Eat  SHOW          2021   \n",
      "85434    Rudklao Amratisha   unknown     ACTOR  Let's Eat  SHOW          2021   \n",
      "85435      Jaturong Mokjok   unknown     ACTOR  Let's Eat  SHOW          2021   \n",
      "85436     Pisamai Wilaisak   unknown     ACTOR  Let's Eat  SHOW          2021   \n",
      "85437  Sarawut Wichiensarn   unknown  DIRECTOR  Let's Eat  SHOW          2021   \n",
      "\n",
      "                    genres  imdb_score  imdb_votes  \n",
      "85433  ['drama', 'comedy']         8.0         5.0  \n",
      "85434  ['drama', 'comedy']         8.0         5.0  \n",
      "85435  ['drama', 'comedy']         8.0         5.0  \n",
      "85436  ['drama', 'comedy']         8.0         5.0  \n",
      "85437  ['drama', 'comedy']         8.0         5.0  \n"
     ]
    }
   ],
   "source": [
    "# rounding column with scores\n",
    "filtered_df['imdb_score'] = filtered_df['imdb_score'].round()\n",
    "#checking the outcome with tail()\n",
    "print(filtered_df.tail())"
   ]
  },
  {
   "cell_type": "markdown",
   "id": "36dbd00a",
   "metadata": {},
   "source": [
    "It is now time to identify outliers based on the number of votes."
   ]
  },
  {
   "cell_type": "code",
   "execution_count": 22,
   "id": "b8b55e95",
   "metadata": {},
   "outputs": [
    {
     "name": "stdout",
     "output_type": "stream",
     "text": [
      "imdb_score\n",
      "2.0       40\n",
      "3.0       27\n",
      "4.0      225\n",
      "5.0      691\n",
      "6.0     2986\n",
      "7.0     5322\n",
      "8.0     5200\n",
      "9.0      583\n",
      "10.0       8\n",
      "Name: imdb_votes, dtype: int64\n"
     ]
    }
   ],
   "source": [
    "# Use groupby() for scores and count all unique values in each group, print the result\n",
    "filtered_df = filtered_df[['imdb_score', 'imdb_votes']] \n",
    "score_counts = filtered_df.groupby('imdb_score')['imdb_votes'].count()\n",
    "print(score_counts)"
   ]
  },
  {
   "cell_type": "markdown",
   "id": "1ba6daae",
   "metadata": {},
   "source": [
    "Based on the aggregation performed, it is evident that scores 2 (24 voted shows), 3 (27 voted shows), and 10 (only 8 voted shows) are outliers. There isn't enough data for these scores for the average number of votes to be meaningful."
   ]
  },
  {
   "cell_type": "markdown",
   "id": "bd468c46",
   "metadata": {},
   "source": [
    "To obtain the mean numbers of votes for the selected scores (we identified a range of 4-9 as acceptable), use conditional filtering and grouping."
   ]
  },
  {
   "cell_type": "code",
   "execution_count": 23,
   "id": "d1867e0e",
   "metadata": {},
   "outputs": [
    {
     "data": {
      "text/html": [
       "<div>\n",
       "<style scoped>\n",
       "    .dataframe tbody tr th:only-of-type {\n",
       "        vertical-align: middle;\n",
       "    }\n",
       "\n",
       "    .dataframe tbody tr th {\n",
       "        vertical-align: top;\n",
       "    }\n",
       "\n",
       "    .dataframe thead th {\n",
       "        text-align: right;\n",
       "    }\n",
       "</style>\n",
       "<table border=\"1\" class=\"dataframe\">\n",
       "  <thead>\n",
       "    <tr style=\"text-align: right;\">\n",
       "      <th></th>\n",
       "      <th>imdb_score</th>\n",
       "      <th>imdb_votes</th>\n",
       "    </tr>\n",
       "  </thead>\n",
       "  <tbody>\n",
       "    <tr>\n",
       "      <th>0</th>\n",
       "      <td>4.0</td>\n",
       "      <td>225</td>\n",
       "    </tr>\n",
       "    <tr>\n",
       "      <th>1</th>\n",
       "      <td>5.0</td>\n",
       "      <td>691</td>\n",
       "    </tr>\n",
       "    <tr>\n",
       "      <th>2</th>\n",
       "      <td>6.0</td>\n",
       "      <td>2986</td>\n",
       "    </tr>\n",
       "    <tr>\n",
       "      <th>3</th>\n",
       "      <td>7.0</td>\n",
       "      <td>5322</td>\n",
       "    </tr>\n",
       "    <tr>\n",
       "      <th>4</th>\n",
       "      <td>8.0</td>\n",
       "      <td>5200</td>\n",
       "    </tr>\n",
       "    <tr>\n",
       "      <th>5</th>\n",
       "      <td>9.0</td>\n",
       "      <td>583</td>\n",
       "    </tr>\n",
       "  </tbody>\n",
       "</table>\n",
       "</div>"
      ],
      "text/plain": [
       "   imdb_score  imdb_votes\n",
       "0         4.0         225\n",
       "1         5.0         691\n",
       "2         6.0        2986\n",
       "3         7.0        5322\n",
       "4         8.0        5200\n",
       "5         9.0         583"
      ]
     },
     "execution_count": 23,
     "metadata": {},
     "output_type": "execute_result"
    }
   ],
   "source": [
    "# filter dataframe using two conditions (scores to be in the range 4-9)\n",
    "filtered_df = filtered_df[(filtered_df['imdb_score'] >= 4) & (filtered_df['imdb_score'] <= 9)]\n",
    "\n",
    "# group scores and corresponding average number of votes, reset index and print the result\n",
    "score_vote_averages = filtered_df.groupby('imdb_score')['imdb_votes'].count().reset_index()\n",
    "score_vote_averages"
   ]
  },
  {
   "cell_type": "markdown",
   "id": "96a66d14",
   "metadata": {},
   "source": [
    "Now for the final step! Round the column with the averages, rename both columns, and print the dataframe in descending order."
   ]
  },
  {
   "cell_type": "code",
   "execution_count": 24,
   "id": "5999051b",
   "metadata": {},
   "outputs": [
    {
     "name": "stdout",
     "output_type": "stream",
     "text": [
      "   Score  Average_Votes\n",
      "5    9.0            583\n",
      "4    8.0           5200\n",
      "3    7.0           5322\n",
      "2    6.0           2986\n",
      "1    5.0            691\n",
      "0    4.0            225\n"
     ]
    }
   ],
   "source": [
    "# round column with averages\n",
    "score_vote_averages['imdb_score'] = score_vote_averages['imdb_score'].round()\n",
    "\n",
    "# rename columns\n",
    "\n",
    "score_vote_averages = score_vote_averages.rename(columns={'imdb_score': 'Score', 'imdb_votes': 'Average_Votes'})\n",
    "\n",
    "# print dataframe in descending order\n",
    "score_vote_averages = score_vote_averages.sort_values(by='Score', ascending=False)\n",
    "print(score_vote_averages)"
   ]
  },
  {
   "cell_type": "markdown",
   "id": "c9f430f9",
   "metadata": {},
   "source": [
    "<div class=\"alert alert-danger\">\n",
    "<b>Reviewer's comment v1</b>\n",
    "\n",
    "Unfortunately, I noticed that the last step is missing.\n",
    "\n",
    "Here, we need to round the column in the `score_vote_averages` dataframe, then rename and sort the values.\n",
    "\n",
    "Could you please add that?"
   ]
  },
  {
   "cell_type": "markdown",
   "id": "7779fbda",
   "metadata": {},
   "source": [
    "<div class=\"alert alert-success\">\n",
    "<b>Reviewer's comment v2:</b>\n",
    "\n",
    "Well done! "
   ]
  },
  {
   "cell_type": "markdown",
   "id": "af07386d",
   "metadata": {},
   "source": [
    "The assumption macthes the analysis: the shows with the top 3 scores have the most amounts of votes."
   ]
  },
  {
   "cell_type": "markdown",
   "id": "84e29a37",
   "metadata": {},
   "source": [
    "## Conclusion <a id='hypotheses'></a>"
   ]
  },
  {
   "cell_type": "markdown",
   "id": "984766a3",
   "metadata": {},
   "source": [
    "The research done confirms that highly-rated shows released during the \"Golden Age\" of television also have the most votes. While shows with score 4 have more votes than ones with scores 5 and 6, the top three (scores 7-9) have the largest number. The data studied represents around 94% of the original set, so we can be confident in our findings."
   ]
  },
  {
   "cell_type": "markdown",
   "id": "d75872b2",
   "metadata": {},
   "source": [
    "<div class=\"alert alert-success\">\n",
    "<b>Reviewer's comment v1:</b>\n",
    " \n",
    "Overall you did a great research.\n",
    "    \n",
    "A small tip regarding overall conclusion in the project: \n",
    "    It represents the overall work progress that you achieved. On a real project, this is probably the only thing the business will read. Therefore, it is crucial to indicate in a structured way all conclusions that you made on each step in the project.\n",
    "\n",
    "For example:\n",
    "\n",
    "- Replaced missing values in the following data with the following method.\n",
    "- Replaced data types in the following columns.\n",
    "- etc.\n",
    "- We observe that ... factors impact ... \n",
    "- My analysis show ...\n",
    "- I can recommend the following next steps / activities ...\n",
    "\n",
    "It is also important to provide explanations and interpretations that will be interesting for business based on your analysis.\n"
   ]
  }
 ],
 "metadata": {
  "ExecuteTimeLog": [
   {
    "duration": 282,
    "start_time": "2024-12-04T20:56:23.821Z"
   },
   {
    "duration": 158,
    "start_time": "2024-12-05T01:14:12.504Z"
   },
   {
    "duration": 299,
    "start_time": "2024-12-05T01:14:25.002Z"
   },
   {
    "duration": 137,
    "start_time": "2024-12-05T01:14:28.090Z"
   },
   {
    "duration": 9,
    "start_time": "2024-12-05T01:27:02.092Z"
   },
   {
    "duration": 158,
    "start_time": "2024-12-06T10:44:54.658Z"
   },
   {
    "duration": 11,
    "start_time": "2024-12-06T10:45:04.547Z"
   },
   {
    "duration": 282,
    "start_time": "2024-12-06T10:45:20.672Z"
   },
   {
    "duration": 140,
    "start_time": "2024-12-06T10:45:38.819Z"
   },
   {
    "duration": 8,
    "start_time": "2024-12-06T10:45:41.556Z"
   },
   {
    "duration": 23,
    "start_time": "2024-12-06T10:45:45.065Z"
   },
   {
    "duration": 4,
    "start_time": "2024-12-06T10:46:35.361Z"
   },
   {
    "duration": 3,
    "start_time": "2024-12-06T10:48:07.635Z"
   },
   {
    "duration": 117,
    "start_time": "2024-12-06T10:48:08.753Z"
   },
   {
    "duration": 6,
    "start_time": "2024-12-06T10:48:11.337Z"
   },
   {
    "duration": 22,
    "start_time": "2024-12-06T10:48:15.750Z"
   },
   {
    "duration": 4,
    "start_time": "2024-12-06T10:48:24.965Z"
   },
   {
    "duration": 326,
    "start_time": "2024-12-11T16:48:56.763Z"
   },
   {
    "duration": 150,
    "start_time": "2024-12-11T16:49:00.376Z"
   },
   {
    "duration": 8,
    "start_time": "2024-12-11T16:49:03.137Z"
   },
   {
    "duration": 23,
    "start_time": "2024-12-11T16:49:07.902Z"
   },
   {
    "duration": 4,
    "start_time": "2024-12-11T16:50:48.415Z"
   },
   {
    "duration": 185,
    "start_time": "2024-12-11T17:16:04.437Z"
   },
   {
    "duration": 3,
    "start_time": "2024-12-11T17:16:43.014Z"
   },
   {
    "duration": 3,
    "start_time": "2024-12-11T17:16:48.847Z"
   },
   {
    "duration": 20,
    "start_time": "2024-12-11T17:33:42.671Z"
   },
   {
    "duration": 17,
    "start_time": "2024-12-11T17:38:59.852Z"
   },
   {
    "duration": 13,
    "start_time": "2024-12-11T17:39:14.471Z"
   },
   {
    "duration": 17,
    "start_time": "2024-12-11T17:41:17.773Z"
   },
   {
    "duration": 43,
    "start_time": "2024-12-11T17:50:04.747Z"
   },
   {
    "duration": 41,
    "start_time": "2024-12-11T17:50:09.255Z"
   },
   {
    "duration": 43,
    "start_time": "2024-12-11T17:51:19.640Z"
   },
   {
    "duration": 14,
    "start_time": "2024-12-11T18:52:17.783Z"
   },
   {
    "duration": 46,
    "start_time": "2024-12-11T18:54:13.454Z"
   },
   {
    "duration": 154,
    "start_time": "2024-12-11T19:49:11.915Z"
   },
   {
    "duration": 357,
    "start_time": "2024-12-11T19:49:42.218Z"
   },
   {
    "duration": 138,
    "start_time": "2024-12-11T19:49:44.374Z"
   },
   {
    "duration": 7,
    "start_time": "2024-12-11T19:49:46.854Z"
   },
   {
    "duration": 22,
    "start_time": "2024-12-11T19:49:49.735Z"
   },
   {
    "duration": 2,
    "start_time": "2024-12-11T19:49:54.852Z"
   },
   {
    "duration": 3,
    "start_time": "2024-12-11T19:49:57.902Z"
   },
   {
    "duration": 2,
    "start_time": "2024-12-11T19:49:59.836Z"
   },
   {
    "duration": 20,
    "start_time": "2024-12-11T19:50:02.302Z"
   },
   {
    "duration": 11,
    "start_time": "2024-12-11T19:50:05.520Z"
   },
   {
    "duration": 17,
    "start_time": "2024-12-11T19:50:07.106Z"
   },
   {
    "duration": 44,
    "start_time": "2024-12-11T19:50:10.088Z"
   },
   {
    "duration": 45,
    "start_time": "2024-12-11T19:50:11.809Z"
   },
   {
    "duration": 46,
    "start_time": "2024-12-11T19:50:15.120Z"
   },
   {
    "duration": 39,
    "start_time": "2024-12-11T19:50:21.144Z"
   },
   {
    "duration": 41,
    "start_time": "2024-12-11T19:56:22.759Z"
   },
   {
    "duration": 3,
    "start_time": "2024-12-11T20:27:13.496Z"
   },
   {
    "duration": 19,
    "start_time": "2024-12-11T20:27:16.329Z"
   },
   {
    "duration": 3,
    "start_time": "2024-12-11T20:27:39.478Z"
   },
   {
    "duration": 17,
    "start_time": "2024-12-11T20:27:42.314Z"
   },
   {
    "duration": 2,
    "start_time": "2024-12-11T20:28:18.402Z"
   },
   {
    "duration": 118,
    "start_time": "2024-12-11T20:28:19.105Z"
   },
   {
    "duration": 7,
    "start_time": "2024-12-11T20:28:20.450Z"
   },
   {
    "duration": 23,
    "start_time": "2024-12-11T20:28:20.930Z"
   },
   {
    "duration": 3,
    "start_time": "2024-12-11T20:28:22.138Z"
   },
   {
    "duration": 3,
    "start_time": "2024-12-11T20:28:22.702Z"
   },
   {
    "duration": 3,
    "start_time": "2024-12-11T20:28:23.405Z"
   },
   {
    "duration": 19,
    "start_time": "2024-12-11T20:28:23.921Z"
   },
   {
    "duration": 11,
    "start_time": "2024-12-11T20:28:25.038Z"
   },
   {
    "duration": 18,
    "start_time": "2024-12-11T20:28:25.517Z"
   },
   {
    "duration": 42,
    "start_time": "2024-12-11T20:28:26.101Z"
   },
   {
    "duration": 46,
    "start_time": "2024-12-11T20:28:27.055Z"
   },
   {
    "duration": 46,
    "start_time": "2024-12-11T20:28:27.934Z"
   },
   {
    "duration": 37,
    "start_time": "2024-12-11T20:28:28.452Z"
   },
   {
    "duration": 5,
    "start_time": "2024-12-11T20:28:29.136Z"
   },
   {
    "duration": 3,
    "start_time": "2024-12-11T20:28:29.591Z"
   },
   {
    "duration": 19,
    "start_time": "2024-12-11T20:28:30.721Z"
   },
   {
    "duration": 34,
    "start_time": "2024-12-11T20:29:05.106Z"
   },
   {
    "duration": 17,
    "start_time": "2024-12-11T20:29:14.857Z"
   },
   {
    "duration": 17,
    "start_time": "2024-12-11T20:29:21.862Z"
   },
   {
    "duration": 16,
    "start_time": "2024-12-11T20:29:25.137Z"
   },
   {
    "duration": 3,
    "start_time": "2024-12-11T20:30:01.167Z"
   },
   {
    "duration": 20,
    "start_time": "2024-12-11T20:31:04.940Z"
   },
   {
    "duration": 18,
    "start_time": "2024-12-11T20:31:08.424Z"
   },
   {
    "duration": 6,
    "start_time": "2024-12-11T20:31:35.639Z"
   },
   {
    "duration": 375,
    "start_time": "2024-12-12T00:03:35.456Z"
   },
   {
    "duration": 158,
    "start_time": "2024-12-12T00:03:35.833Z"
   },
   {
    "duration": 8,
    "start_time": "2024-12-12T00:03:36.253Z"
   },
   {
    "duration": 24,
    "start_time": "2024-12-12T00:03:36.621Z"
   },
   {
    "duration": 3,
    "start_time": "2024-12-12T00:03:37.781Z"
   },
   {
    "duration": 5,
    "start_time": "2024-12-12T00:03:38.428Z"
   },
   {
    "duration": 3,
    "start_time": "2024-12-12T00:03:38.796Z"
   },
   {
    "duration": 22,
    "start_time": "2024-12-12T00:03:39.166Z"
   },
   {
    "duration": 12,
    "start_time": "2024-12-12T00:03:40.515Z"
   },
   {
    "duration": 20,
    "start_time": "2024-12-12T00:03:41.435Z"
   },
   {
    "duration": 49,
    "start_time": "2024-12-12T00:03:42.579Z"
   },
   {
    "duration": 52,
    "start_time": "2024-12-12T00:03:42.963Z"
   },
   {
    "duration": 54,
    "start_time": "2024-12-12T00:03:43.430Z"
   },
   {
    "duration": 62,
    "start_time": "2024-12-12T00:03:43.955Z"
   },
   {
    "duration": 6,
    "start_time": "2024-12-12T00:03:44.467Z"
   },
   {
    "duration": 3,
    "start_time": "2024-12-12T00:03:45.083Z"
   },
   {
    "duration": 23,
    "start_time": "2024-12-12T00:03:45.451Z"
   },
   {
    "duration": 6,
    "start_time": "2024-12-12T00:03:45.898Z"
   },
   {
    "duration": 26,
    "start_time": "2024-12-12T01:18:48.520Z"
   },
   {
    "duration": 11,
    "start_time": "2024-12-12T01:19:53.964Z"
   },
   {
    "duration": 17,
    "start_time": "2024-12-12T01:19:56.453Z"
   },
   {
    "duration": 9,
    "start_time": "2024-12-12T02:15:34.412Z"
   },
   {
    "duration": 4,
    "start_time": "2024-12-12T02:15:40.160Z"
   },
   {
    "duration": 3,
    "start_time": "2024-12-12T02:15:58.395Z"
   },
   {
    "duration": 121,
    "start_time": "2024-12-12T02:15:58.572Z"
   },
   {
    "duration": 7,
    "start_time": "2024-12-12T02:15:58.963Z"
   },
   {
    "duration": 26,
    "start_time": "2024-12-12T02:15:59.330Z"
   },
   {
    "duration": 3,
    "start_time": "2024-12-12T02:16:00.285Z"
   },
   {
    "duration": 6,
    "start_time": "2024-12-12T02:16:01.074Z"
   },
   {
    "duration": 3,
    "start_time": "2024-12-12T02:16:01.481Z"
   },
   {
    "duration": 21,
    "start_time": "2024-12-12T02:16:01.879Z"
   },
   {
    "duration": 13,
    "start_time": "2024-12-12T02:16:02.268Z"
   },
   {
    "duration": 24,
    "start_time": "2024-12-12T02:16:02.674Z"
   },
   {
    "duration": 46,
    "start_time": "2024-12-12T02:16:03.096Z"
   },
   {
    "duration": 67,
    "start_time": "2024-12-12T02:16:03.499Z"
   },
   {
    "duration": 67,
    "start_time": "2024-12-12T02:16:04.227Z"
   },
   {
    "duration": 44,
    "start_time": "2024-12-12T02:16:04.601Z"
   },
   {
    "duration": 5,
    "start_time": "2024-12-12T02:16:05.347Z"
   },
   {
    "duration": 3,
    "start_time": "2024-12-12T02:16:05.746Z"
   },
   {
    "duration": 22,
    "start_time": "2024-12-12T02:16:06.129Z"
   },
   {
    "duration": 6,
    "start_time": "2024-12-12T02:16:06.509Z"
   },
   {
    "duration": 8,
    "start_time": "2024-12-12T02:16:08.835Z"
   },
   {
    "duration": 25,
    "start_time": "2024-12-12T02:16:09.468Z"
   },
   {
    "duration": 192,
    "start_time": "2024-12-12T02:16:10.932Z"
   },
   {
    "duration": 5,
    "start_time": "2024-12-12T02:16:17.588Z"
   },
   {
    "duration": 5,
    "start_time": "2024-12-12T02:17:05.195Z"
   },
   {
    "duration": 5,
    "start_time": "2024-12-12T02:17:07.696Z"
   },
   {
    "duration": 8,
    "start_time": "2024-12-12T02:18:02.276Z"
   },
   {
    "duration": 20,
    "start_time": "2024-12-12T02:18:04.760Z"
   },
   {
    "duration": 16,
    "start_time": "2024-12-12T02:18:09.865Z"
   },
   {
    "duration": 14,
    "start_time": "2024-12-12T02:18:51.144Z"
   },
   {
    "duration": 3,
    "start_time": "2024-12-12T02:18:58.495Z"
   },
   {
    "duration": 365,
    "start_time": "2024-12-12T02:20:42.446Z"
   },
   {
    "duration": 54,
    "start_time": "2024-12-12T02:21:01.574Z"
   },
   {
    "duration": 41,
    "start_time": "2024-12-12T02:21:07.325Z"
   },
   {
    "duration": 42,
    "start_time": "2024-12-12T02:21:54.774Z"
   },
   {
    "duration": 43,
    "start_time": "2024-12-12T02:21:57.809Z"
   },
   {
    "duration": 42,
    "start_time": "2024-12-12T02:22:03.110Z"
   },
   {
    "duration": 9,
    "start_time": "2024-12-12T02:22:06.854Z"
   },
   {
    "duration": 16,
    "start_time": "2024-12-12T02:22:09.182Z"
   },
   {
    "duration": 4,
    "start_time": "2024-12-12T02:22:12.399Z"
   },
   {
    "duration": 167,
    "start_time": "2024-12-12T02:27:20.781Z"
   },
   {
    "duration": 10,
    "start_time": "2024-12-12T02:27:28.027Z"
   },
   {
    "duration": 18,
    "start_time": "2024-12-12T02:27:28.723Z"
   },
   {
    "duration": 5,
    "start_time": "2024-12-12T02:27:32.732Z"
   },
   {
    "duration": 41,
    "start_time": "2024-12-12T02:27:37.437Z"
   },
   {
    "duration": 43,
    "start_time": "2024-12-12T02:28:22.409Z"
   },
   {
    "duration": 41,
    "start_time": "2024-12-12T02:28:25.277Z"
   },
   {
    "duration": 131,
    "start_time": "2024-12-12T02:28:56.543Z"
   },
   {
    "duration": 9,
    "start_time": "2024-12-12T02:29:01.838Z"
   },
   {
    "duration": 18,
    "start_time": "2024-12-12T02:29:03.894Z"
   },
   {
    "duration": 5,
    "start_time": "2024-12-12T02:29:06.711Z"
   },
   {
    "duration": 43,
    "start_time": "2024-12-12T02:29:08.849Z"
   },
   {
    "duration": 47,
    "start_time": "2024-12-12T02:32:46.736Z"
   },
   {
    "duration": 40,
    "start_time": "2024-12-12T02:32:52.018Z"
   },
   {
    "duration": 58,
    "start_time": "2024-12-12T02:35:10.950Z"
   },
   {
    "duration": 60,
    "start_time": "2024-12-12T02:35:26.568Z"
   },
   {
    "duration": 42,
    "start_time": "2024-12-12T02:36:23.777Z"
   },
   {
    "duration": 60,
    "start_time": "2024-12-12T02:36:32.810Z"
   },
   {
    "duration": 42,
    "start_time": "2024-12-12T02:37:49.496Z"
   },
   {
    "duration": 51,
    "start_time": "2024-12-12T02:40:01.945Z"
   },
   {
    "duration": 9,
    "start_time": "2024-12-12T02:40:07.007Z"
   },
   {
    "duration": 18,
    "start_time": "2024-12-12T02:40:08.087Z"
   },
   {
    "duration": 5,
    "start_time": "2024-12-12T02:40:09.933Z"
   },
   {
    "duration": 47,
    "start_time": "2024-12-12T02:40:12.168Z"
   },
   {
    "duration": 58,
    "start_time": "2024-12-12T02:40:17.000Z"
   },
   {
    "duration": 2,
    "start_time": "2024-12-12T02:40:38.965Z"
   },
   {
    "duration": 143,
    "start_time": "2024-12-12T02:40:38.970Z"
   },
   {
    "duration": 8,
    "start_time": "2024-12-12T02:40:39.115Z"
   },
   {
    "duration": 34,
    "start_time": "2024-12-12T02:40:39.125Z"
   },
   {
    "duration": 3,
    "start_time": "2024-12-12T02:40:39.162Z"
   },
   {
    "duration": 4,
    "start_time": "2024-12-12T02:40:39.168Z"
   },
   {
    "duration": 3,
    "start_time": "2024-12-12T02:40:39.174Z"
   },
   {
    "duration": 20,
    "start_time": "2024-12-12T02:40:39.179Z"
   },
   {
    "duration": 35,
    "start_time": "2024-12-12T02:40:39.201Z"
   },
   {
    "duration": 19,
    "start_time": "2024-12-12T02:40:39.238Z"
   },
   {
    "duration": 48,
    "start_time": "2024-12-12T02:40:39.259Z"
   },
   {
    "duration": 50,
    "start_time": "2024-12-12T02:40:39.331Z"
   },
   {
    "duration": 60,
    "start_time": "2024-12-12T02:40:39.383Z"
   },
   {
    "duration": 44,
    "start_time": "2024-12-12T02:40:39.446Z"
   },
   {
    "duration": 5,
    "start_time": "2024-12-12T02:40:39.493Z"
   },
   {
    "duration": 3,
    "start_time": "2024-12-12T02:40:39.501Z"
   },
   {
    "duration": 43,
    "start_time": "2024-12-12T02:40:39.506Z"
   },
   {
    "duration": 8,
    "start_time": "2024-12-12T02:40:39.551Z"
   },
   {
    "duration": 9,
    "start_time": "2024-12-12T02:40:39.561Z"
   },
   {
    "duration": 18,
    "start_time": "2024-12-12T02:40:39.572Z"
   },
   {
    "duration": 5,
    "start_time": "2024-12-12T02:40:39.592Z"
   },
   {
    "duration": 69,
    "start_time": "2024-12-12T02:40:39.601Z"
   },
   {
    "duration": 0,
    "start_time": "2024-12-12T02:40:39.672Z"
   },
   {
    "duration": 0,
    "start_time": "2024-12-12T02:40:39.674Z"
   },
   {
    "duration": 4,
    "start_time": "2024-12-12T02:41:03.595Z"
   },
   {
    "duration": 161,
    "start_time": "2024-12-12T02:41:03.601Z"
   },
   {
    "duration": 8,
    "start_time": "2024-12-12T02:41:03.764Z"
   },
   {
    "duration": 31,
    "start_time": "2024-12-12T02:41:03.774Z"
   },
   {
    "duration": 3,
    "start_time": "2024-12-12T02:41:03.808Z"
   },
   {
    "duration": 4,
    "start_time": "2024-12-12T02:41:03.832Z"
   },
   {
    "duration": 3,
    "start_time": "2024-12-12T02:41:03.838Z"
   },
   {
    "duration": 26,
    "start_time": "2024-12-12T02:41:03.843Z"
   },
   {
    "duration": 11,
    "start_time": "2024-12-12T02:41:03.871Z"
   },
   {
    "duration": 19,
    "start_time": "2024-12-12T02:41:03.884Z"
   },
   {
    "duration": 45,
    "start_time": "2024-12-12T02:41:03.932Z"
   },
   {
    "duration": 60,
    "start_time": "2024-12-12T02:41:03.980Z"
   },
   {
    "duration": 49,
    "start_time": "2024-12-12T02:41:04.042Z"
   },
   {
    "duration": 59,
    "start_time": "2024-12-12T02:41:04.093Z"
   },
   {
    "duration": 5,
    "start_time": "2024-12-12T02:41:04.154Z"
   },
   {
    "duration": 4,
    "start_time": "2024-12-12T02:41:04.161Z"
   },
   {
    "duration": 23,
    "start_time": "2024-12-12T02:41:04.167Z"
   },
   {
    "duration": 6,
    "start_time": "2024-12-12T02:41:04.193Z"
   },
   {
    "duration": 30,
    "start_time": "2024-12-12T02:41:04.201Z"
   },
   {
    "duration": 15,
    "start_time": "2024-12-12T02:41:04.233Z"
   },
   {
    "duration": 5,
    "start_time": "2024-12-12T02:41:04.249Z"
   },
   {
    "duration": 44,
    "start_time": "2024-12-12T02:41:08.040Z"
   },
   {
    "duration": 43,
    "start_time": "2024-12-12T02:42:23.383Z"
   },
   {
    "duration": 44,
    "start_time": "2024-12-12T02:42:27.026Z"
   },
   {
    "duration": 45,
    "start_time": "2024-12-12T02:44:49.926Z"
   },
   {
    "duration": 274,
    "start_time": "2024-12-12T05:30:26.728Z"
   },
   {
    "duration": 136,
    "start_time": "2024-12-12T05:30:27.004Z"
   },
   {
    "duration": 7,
    "start_time": "2024-12-12T05:30:27.142Z"
   },
   {
    "duration": 22,
    "start_time": "2024-12-12T05:30:27.152Z"
   },
   {
    "duration": 3,
    "start_time": "2024-12-12T05:30:27.176Z"
   },
   {
    "duration": 4,
    "start_time": "2024-12-12T05:30:27.180Z"
   },
   {
    "duration": 2,
    "start_time": "2024-12-12T05:30:27.186Z"
   },
   {
    "duration": 17,
    "start_time": "2024-12-12T05:30:27.190Z"
   },
   {
    "duration": 43,
    "start_time": "2024-12-12T05:30:27.209Z"
   },
   {
    "duration": 18,
    "start_time": "2024-12-12T05:30:27.254Z"
   },
   {
    "duration": 42,
    "start_time": "2024-12-12T05:30:27.274Z"
   },
   {
    "duration": 70,
    "start_time": "2024-12-12T05:30:27.318Z"
   },
   {
    "duration": 52,
    "start_time": "2024-12-12T05:30:27.390Z"
   },
   {
    "duration": 42,
    "start_time": "2024-12-12T05:30:27.445Z"
   },
   {
    "duration": 5,
    "start_time": "2024-12-12T05:30:27.489Z"
   },
   {
    "duration": 3,
    "start_time": "2024-12-12T05:30:27.495Z"
   },
   {
    "duration": 45,
    "start_time": "2024-12-12T05:30:27.500Z"
   },
   {
    "duration": 6,
    "start_time": "2024-12-12T05:30:27.546Z"
   },
   {
    "duration": 8,
    "start_time": "2024-12-12T05:30:27.554Z"
   },
   {
    "duration": 13,
    "start_time": "2024-12-12T05:30:27.564Z"
   },
   {
    "duration": 5,
    "start_time": "2024-12-12T05:30:27.579Z"
   },
   {
    "duration": 430,
    "start_time": "2024-12-12T05:30:27.585Z"
   },
   {
    "duration": 0,
    "start_time": "2024-12-12T05:30:28.017Z"
   },
   {
    "duration": 0,
    "start_time": "2024-12-12T05:30:28.019Z"
   },
   {
    "duration": 4,
    "start_time": "2024-12-12T05:32:51.141Z"
   },
   {
    "duration": 13,
    "start_time": "2024-12-12T05:33:19.793Z"
   },
   {
    "duration": 10,
    "start_time": "2024-12-12T05:33:23.392Z"
   },
   {
    "duration": 11,
    "start_time": "2024-12-12T05:33:34.452Z"
   },
   {
    "duration": 11,
    "start_time": "2024-12-12T05:33:37.223Z"
   },
   {
    "duration": 4,
    "start_time": "2024-12-12T05:34:30.951Z"
   },
   {
    "duration": 7,
    "start_time": "2024-12-12T05:36:23.594Z"
   },
   {
    "duration": 9,
    "start_time": "2024-12-12T05:46:33.091Z"
   },
   {
    "duration": 330,
    "start_time": "2024-12-12T08:22:27.741Z"
   },
   {
    "duration": 125,
    "start_time": "2024-12-12T08:22:28.073Z"
   },
   {
    "duration": 17,
    "start_time": "2024-12-12T08:22:28.199Z"
   },
   {
    "duration": 24,
    "start_time": "2024-12-12T08:22:28.220Z"
   },
   {
    "duration": 3,
    "start_time": "2024-12-12T08:22:28.245Z"
   },
   {
    "duration": 3,
    "start_time": "2024-12-12T08:22:28.250Z"
   },
   {
    "duration": 3,
    "start_time": "2024-12-12T08:22:28.255Z"
   },
   {
    "duration": 50,
    "start_time": "2024-12-12T08:22:28.260Z"
   },
   {
    "duration": 11,
    "start_time": "2024-12-12T08:22:28.311Z"
   },
   {
    "duration": 16,
    "start_time": "2024-12-12T08:22:28.325Z"
   },
   {
    "duration": 43,
    "start_time": "2024-12-12T08:22:28.343Z"
   },
   {
    "duration": 65,
    "start_time": "2024-12-12T08:22:28.388Z"
   },
   {
    "duration": 59,
    "start_time": "2024-12-12T08:22:28.455Z"
   },
   {
    "duration": 42,
    "start_time": "2024-12-12T08:22:28.515Z"
   },
   {
    "duration": 6,
    "start_time": "2024-12-12T08:22:28.558Z"
   },
   {
    "duration": 4,
    "start_time": "2024-12-12T08:22:28.565Z"
   },
   {
    "duration": 45,
    "start_time": "2024-12-12T08:22:28.570Z"
   },
   {
    "duration": 5,
    "start_time": "2024-12-12T08:22:28.617Z"
   },
   {
    "duration": 9,
    "start_time": "2024-12-12T08:22:28.624Z"
   },
   {
    "duration": 15,
    "start_time": "2024-12-12T08:22:28.634Z"
   },
   {
    "duration": 4,
    "start_time": "2024-12-12T08:22:28.651Z"
   },
   {
    "duration": 6,
    "start_time": "2024-12-12T08:22:28.657Z"
   },
   {
    "duration": 7,
    "start_time": "2024-12-12T08:22:28.664Z"
   },
   {
    "duration": 3,
    "start_time": "2024-12-12T08:22:28.708Z"
   },
   {
    "duration": 21,
    "start_time": "2024-12-12T08:24:37.194Z"
   },
   {
    "duration": 8,
    "start_time": "2024-12-12T08:24:55.903Z"
   },
   {
    "duration": 278,
    "start_time": "2024-12-28T20:45:02.504Z"
   },
   {
    "duration": 144,
    "start_time": "2024-12-28T20:45:02.784Z"
   },
   {
    "duration": 8,
    "start_time": "2024-12-28T20:45:02.929Z"
   },
   {
    "duration": 22,
    "start_time": "2024-12-28T20:45:02.940Z"
   },
   {
    "duration": 2,
    "start_time": "2024-12-28T20:45:02.964Z"
   },
   {
    "duration": 4,
    "start_time": "2024-12-28T20:45:02.968Z"
   },
   {
    "duration": 4,
    "start_time": "2024-12-28T20:45:02.974Z"
   },
   {
    "duration": 46,
    "start_time": "2024-12-28T20:45:02.979Z"
   },
   {
    "duration": 10,
    "start_time": "2024-12-28T20:45:03.027Z"
   },
   {
    "duration": 17,
    "start_time": "2024-12-28T20:45:03.039Z"
   },
   {
    "duration": 62,
    "start_time": "2024-12-28T20:45:03.057Z"
   },
   {
    "duration": 46,
    "start_time": "2024-12-28T20:45:03.121Z"
   },
   {
    "duration": 56,
    "start_time": "2024-12-28T20:45:03.169Z"
   },
   {
    "duration": 42,
    "start_time": "2024-12-28T20:45:03.227Z"
   },
   {
    "duration": 5,
    "start_time": "2024-12-28T20:45:03.271Z"
   },
   {
    "duration": 3,
    "start_time": "2024-12-28T20:45:03.278Z"
   },
   {
    "duration": 41,
    "start_time": "2024-12-28T20:45:03.283Z"
   },
   {
    "duration": 6,
    "start_time": "2024-12-28T20:45:03.325Z"
   },
   {
    "duration": 8,
    "start_time": "2024-12-28T20:45:03.332Z"
   },
   {
    "duration": 13,
    "start_time": "2024-12-28T20:45:03.342Z"
   },
   {
    "duration": 3,
    "start_time": "2024-12-28T20:45:03.357Z"
   },
   {
    "duration": 9,
    "start_time": "2024-12-28T20:45:03.362Z"
   },
   {
    "duration": 38,
    "start_time": "2024-12-28T20:45:03.373Z"
   },
   {
    "duration": 9,
    "start_time": "2024-12-28T20:45:03.413Z"
   },
   {
    "duration": 266,
    "start_time": "2024-12-28T20:45:21.899Z"
   },
   {
    "duration": 117,
    "start_time": "2024-12-28T20:45:22.167Z"
   },
   {
    "duration": 8,
    "start_time": "2024-12-28T20:45:22.286Z"
   },
   {
    "duration": 37,
    "start_time": "2024-12-28T20:45:22.296Z"
   },
   {
    "duration": 3,
    "start_time": "2024-12-28T20:45:22.335Z"
   },
   {
    "duration": 4,
    "start_time": "2024-12-28T20:45:22.339Z"
   },
   {
    "duration": 4,
    "start_time": "2024-12-28T20:45:22.344Z"
   },
   {
    "duration": 18,
    "start_time": "2024-12-28T20:45:22.349Z"
   },
   {
    "duration": 11,
    "start_time": "2024-12-28T20:45:22.369Z"
   },
   {
    "duration": 17,
    "start_time": "2024-12-28T20:45:22.411Z"
   },
   {
    "duration": 41,
    "start_time": "2024-12-28T20:45:22.430Z"
   },
   {
    "duration": 61,
    "start_time": "2024-12-28T20:45:22.473Z"
   },
   {
    "duration": 44,
    "start_time": "2024-12-28T20:45:22.536Z"
   },
   {
    "duration": 54,
    "start_time": "2024-12-28T20:45:22.582Z"
   },
   {
    "duration": 5,
    "start_time": "2024-12-28T20:45:22.638Z"
   },
   {
    "duration": 2,
    "start_time": "2024-12-28T20:45:22.646Z"
   },
   {
    "duration": 21,
    "start_time": "2024-12-28T20:45:22.650Z"
   },
   {
    "duration": 5,
    "start_time": "2024-12-28T20:45:22.673Z"
   },
   {
    "duration": 31,
    "start_time": "2024-12-28T20:45:22.680Z"
   },
   {
    "duration": 13,
    "start_time": "2024-12-28T20:45:22.713Z"
   },
   {
    "duration": 4,
    "start_time": "2024-12-28T20:45:22.727Z"
   },
   {
    "duration": 6,
    "start_time": "2024-12-28T20:45:22.732Z"
   },
   {
    "duration": 6,
    "start_time": "2024-12-28T20:45:22.740Z"
   },
   {
    "duration": 6,
    "start_time": "2024-12-28T20:45:22.748Z"
   },
   {
    "duration": 707,
    "start_time": "2024-12-28T20:46:26.090Z"
   },
   {
    "duration": 320,
    "start_time": "2024-12-28T20:46:31.124Z"
   },
   {
    "duration": 117,
    "start_time": "2024-12-28T20:46:31.446Z"
   },
   {
    "duration": 8,
    "start_time": "2024-12-28T20:46:31.565Z"
   },
   {
    "duration": 36,
    "start_time": "2024-12-28T20:46:31.576Z"
   },
   {
    "duration": 3,
    "start_time": "2024-12-28T20:46:31.614Z"
   },
   {
    "duration": 4,
    "start_time": "2024-12-28T20:46:31.619Z"
   },
   {
    "duration": 3,
    "start_time": "2024-12-28T20:46:31.625Z"
   },
   {
    "duration": 17,
    "start_time": "2024-12-28T20:46:31.629Z"
   },
   {
    "duration": 10,
    "start_time": "2024-12-28T20:46:31.648Z"
   },
   {
    "duration": 50,
    "start_time": "2024-12-28T20:46:31.662Z"
   },
   {
    "duration": 43,
    "start_time": "2024-12-28T20:46:31.713Z"
   },
   {
    "duration": 62,
    "start_time": "2024-12-28T20:46:31.757Z"
   },
   {
    "duration": 49,
    "start_time": "2024-12-28T20:46:31.822Z"
   },
   {
    "duration": 50,
    "start_time": "2024-12-28T20:46:31.873Z"
   },
   {
    "duration": 6,
    "start_time": "2024-12-28T20:46:31.925Z"
   },
   {
    "duration": 4,
    "start_time": "2024-12-28T20:46:31.932Z"
   },
   {
    "duration": 19,
    "start_time": "2024-12-28T20:46:31.938Z"
   },
   {
    "duration": 5,
    "start_time": "2024-12-28T20:46:31.959Z"
   },
   {
    "duration": 8,
    "start_time": "2024-12-28T20:46:31.965Z"
   },
   {
    "duration": 42,
    "start_time": "2024-12-28T20:46:31.974Z"
   },
   {
    "duration": 4,
    "start_time": "2024-12-28T20:46:32.018Z"
   },
   {
    "duration": 6,
    "start_time": "2024-12-28T20:46:32.023Z"
   },
   {
    "duration": 7,
    "start_time": "2024-12-28T20:46:32.032Z"
   },
   {
    "duration": 7,
    "start_time": "2024-12-28T20:46:32.040Z"
   },
   {
    "duration": 322,
    "start_time": "2024-12-28T20:47:16.927Z"
   },
   {
    "duration": 128,
    "start_time": "2024-12-28T20:47:17.251Z"
   },
   {
    "duration": 7,
    "start_time": "2024-12-28T20:47:17.381Z"
   },
   {
    "duration": 31,
    "start_time": "2024-12-28T20:47:17.390Z"
   },
   {
    "duration": 3,
    "start_time": "2024-12-28T20:47:17.423Z"
   },
   {
    "duration": 3,
    "start_time": "2024-12-28T20:47:17.428Z"
   },
   {
    "duration": 3,
    "start_time": "2024-12-28T20:47:17.433Z"
   },
   {
    "duration": 18,
    "start_time": "2024-12-28T20:47:17.438Z"
   },
   {
    "duration": 10,
    "start_time": "2024-12-28T20:47:17.457Z"
   },
   {
    "duration": 45,
    "start_time": "2024-12-28T20:47:17.470Z"
   },
   {
    "duration": 43,
    "start_time": "2024-12-28T20:47:17.516Z"
   },
   {
    "duration": 64,
    "start_time": "2024-12-28T20:47:17.562Z"
   },
   {
    "duration": 47,
    "start_time": "2024-12-28T20:47:17.627Z"
   },
   {
    "duration": 53,
    "start_time": "2024-12-28T20:47:17.676Z"
   },
   {
    "duration": 5,
    "start_time": "2024-12-28T20:47:17.730Z"
   },
   {
    "duration": 4,
    "start_time": "2024-12-28T20:47:17.737Z"
   },
   {
    "duration": 22,
    "start_time": "2024-12-28T20:47:17.742Z"
   },
   {
    "duration": 5,
    "start_time": "2024-12-28T20:47:17.765Z"
   },
   {
    "duration": 8,
    "start_time": "2024-12-28T20:47:17.773Z"
   },
   {
    "duration": 38,
    "start_time": "2024-12-28T20:47:17.782Z"
   },
   {
    "duration": 6,
    "start_time": "2024-12-28T20:47:17.822Z"
   },
   {
    "duration": 7,
    "start_time": "2024-12-28T20:47:17.830Z"
   },
   {
    "duration": 7,
    "start_time": "2024-12-28T20:47:17.839Z"
   },
   {
    "duration": 6,
    "start_time": "2024-12-28T20:47:17.847Z"
   },
   {
    "duration": 533,
    "start_time": "2024-12-28T20:47:26.768Z"
   },
   {
    "duration": 309,
    "start_time": "2024-12-28T20:47:30.416Z"
   },
   {
    "duration": 117,
    "start_time": "2024-12-28T20:47:30.727Z"
   },
   {
    "duration": 7,
    "start_time": "2024-12-28T20:47:30.846Z"
   },
   {
    "duration": 22,
    "start_time": "2024-12-28T20:47:30.855Z"
   },
   {
    "duration": 3,
    "start_time": "2024-12-28T20:47:30.879Z"
   },
   {
    "duration": 3,
    "start_time": "2024-12-28T20:47:30.884Z"
   },
   {
    "duration": 3,
    "start_time": "2024-12-28T20:47:30.912Z"
   },
   {
    "duration": 17,
    "start_time": "2024-12-28T20:47:30.917Z"
   },
   {
    "duration": 11,
    "start_time": "2024-12-28T20:47:30.936Z"
   },
   {
    "duration": 18,
    "start_time": "2024-12-28T20:47:30.949Z"
   },
   {
    "duration": 67,
    "start_time": "2024-12-28T20:47:30.969Z"
   },
   {
    "duration": 43,
    "start_time": "2024-12-28T20:47:31.038Z"
   },
   {
    "duration": 57,
    "start_time": "2024-12-28T20:47:31.083Z"
   },
   {
    "duration": 40,
    "start_time": "2024-12-28T20:47:31.145Z"
   },
   {
    "duration": 6,
    "start_time": "2024-12-28T20:47:31.186Z"
   },
   {
    "duration": 18,
    "start_time": "2024-12-28T20:47:31.193Z"
   },
   {
    "duration": 21,
    "start_time": "2024-12-28T20:47:31.213Z"
   },
   {
    "duration": 5,
    "start_time": "2024-12-28T20:47:31.236Z"
   },
   {
    "duration": 8,
    "start_time": "2024-12-28T20:47:31.243Z"
   },
   {
    "duration": 14,
    "start_time": "2024-12-28T20:47:31.252Z"
   },
   {
    "duration": 6,
    "start_time": "2024-12-28T20:47:31.267Z"
   },
   {
    "duration": 37,
    "start_time": "2024-12-28T20:47:31.276Z"
   },
   {
    "duration": 7,
    "start_time": "2024-12-28T20:47:31.314Z"
   },
   {
    "duration": 6,
    "start_time": "2024-12-28T20:47:31.322Z"
   },
   {
    "duration": 313,
    "start_time": "2024-12-28T20:47:50.122Z"
   },
   {
    "duration": 121,
    "start_time": "2024-12-28T20:47:50.437Z"
   },
   {
    "duration": 7,
    "start_time": "2024-12-28T20:47:50.559Z"
   },
   {
    "duration": 23,
    "start_time": "2024-12-28T20:47:50.568Z"
   },
   {
    "duration": 3,
    "start_time": "2024-12-28T20:47:50.593Z"
   },
   {
    "duration": 3,
    "start_time": "2024-12-28T20:47:50.612Z"
   },
   {
    "duration": 3,
    "start_time": "2024-12-28T20:47:50.617Z"
   },
   {
    "duration": 17,
    "start_time": "2024-12-28T20:47:50.622Z"
   },
   {
    "duration": 10,
    "start_time": "2024-12-28T20:47:50.641Z"
   },
   {
    "duration": 17,
    "start_time": "2024-12-28T20:47:50.653Z"
   },
   {
    "duration": 76,
    "start_time": "2024-12-28T20:47:50.671Z"
   },
   {
    "duration": 45,
    "start_time": "2024-12-28T20:47:50.748Z"
   },
   {
    "duration": 52,
    "start_time": "2024-12-28T20:47:50.795Z"
   },
   {
    "duration": 40,
    "start_time": "2024-12-28T20:47:50.851Z"
   },
   {
    "duration": 5,
    "start_time": "2024-12-28T20:47:50.893Z"
   },
   {
    "duration": 15,
    "start_time": "2024-12-28T20:47:50.899Z"
   },
   {
    "duration": 21,
    "start_time": "2024-12-28T20:47:50.916Z"
   },
   {
    "duration": 6,
    "start_time": "2024-12-28T20:47:50.938Z"
   },
   {
    "duration": 8,
    "start_time": "2024-12-28T20:47:50.946Z"
   },
   {
    "duration": 13,
    "start_time": "2024-12-28T20:47:50.956Z"
   },
   {
    "duration": 6,
    "start_time": "2024-12-28T20:47:50.971Z"
   },
   {
    "duration": 5,
    "start_time": "2024-12-28T20:47:51.012Z"
   },
   {
    "duration": 7,
    "start_time": "2024-12-28T20:47:51.019Z"
   },
   {
    "duration": 7,
    "start_time": "2024-12-28T20:47:51.027Z"
   },
   {
    "duration": 308,
    "start_time": "2024-12-28T20:48:39.747Z"
   },
   {
    "duration": 118,
    "start_time": "2024-12-28T20:48:40.057Z"
   },
   {
    "duration": 8,
    "start_time": "2024-12-28T20:48:40.177Z"
   },
   {
    "duration": 32,
    "start_time": "2024-12-28T20:48:40.187Z"
   },
   {
    "duration": 3,
    "start_time": "2024-12-28T20:48:40.221Z"
   },
   {
    "duration": 4,
    "start_time": "2024-12-28T20:48:40.225Z"
   },
   {
    "duration": 4,
    "start_time": "2024-12-28T20:48:40.230Z"
   },
   {
    "duration": 18,
    "start_time": "2024-12-28T20:48:40.236Z"
   },
   {
    "duration": 10,
    "start_time": "2024-12-28T20:48:40.255Z"
   },
   {
    "duration": 46,
    "start_time": "2024-12-28T20:48:40.268Z"
   },
   {
    "duration": 44,
    "start_time": "2024-12-28T20:48:40.316Z"
   },
   {
    "duration": 78,
    "start_time": "2024-12-28T20:48:40.362Z"
   },
   {
    "duration": 44,
    "start_time": "2024-12-28T20:48:40.442Z"
   },
   {
    "duration": 49,
    "start_time": "2024-12-28T20:48:40.488Z"
   },
   {
    "duration": 5,
    "start_time": "2024-12-28T20:48:40.539Z"
   },
   {
    "duration": 4,
    "start_time": "2024-12-28T20:48:40.546Z"
   },
   {
    "duration": 20,
    "start_time": "2024-12-28T20:48:40.551Z"
   },
   {
    "duration": 5,
    "start_time": "2024-12-28T20:48:40.573Z"
   },
   {
    "duration": 36,
    "start_time": "2024-12-28T20:48:40.580Z"
   },
   {
    "duration": 14,
    "start_time": "2024-12-28T20:48:40.618Z"
   },
   {
    "duration": 6,
    "start_time": "2024-12-28T20:48:40.633Z"
   },
   {
    "duration": 6,
    "start_time": "2024-12-28T20:48:40.641Z"
   },
   {
    "duration": 6,
    "start_time": "2024-12-28T20:48:40.649Z"
   },
   {
    "duration": 6,
    "start_time": "2024-12-28T20:48:40.656Z"
   },
   {
    "duration": 274,
    "start_time": "2024-12-28T20:48:59.886Z"
   },
   {
    "duration": 117,
    "start_time": "2024-12-28T20:49:00.162Z"
   },
   {
    "duration": 8,
    "start_time": "2024-12-28T20:49:00.280Z"
   },
   {
    "duration": 31,
    "start_time": "2024-12-28T20:49:00.290Z"
   },
   {
    "duration": 3,
    "start_time": "2024-12-28T20:49:00.322Z"
   },
   {
    "duration": 3,
    "start_time": "2024-12-28T20:49:00.327Z"
   },
   {
    "duration": 4,
    "start_time": "2024-12-28T20:49:00.331Z"
   },
   {
    "duration": 18,
    "start_time": "2024-12-28T20:49:00.337Z"
   },
   {
    "duration": 10,
    "start_time": "2024-12-28T20:49:00.357Z"
   },
   {
    "duration": 45,
    "start_time": "2024-12-28T20:49:00.370Z"
   },
   {
    "duration": 40,
    "start_time": "2024-12-28T20:49:00.418Z"
   },
   {
    "duration": 58,
    "start_time": "2024-12-28T20:49:00.460Z"
   },
   {
    "duration": 44,
    "start_time": "2024-12-28T20:49:00.520Z"
   },
   {
    "duration": 53,
    "start_time": "2024-12-28T20:49:00.565Z"
   },
   {
    "duration": 5,
    "start_time": "2024-12-28T20:49:00.620Z"
   },
   {
    "duration": 3,
    "start_time": "2024-12-28T20:49:00.627Z"
   },
   {
    "duration": 21,
    "start_time": "2024-12-28T20:49:00.631Z"
   },
   {
    "duration": 6,
    "start_time": "2024-12-28T20:49:00.654Z"
   },
   {
    "duration": 8,
    "start_time": "2024-12-28T20:49:00.661Z"
   },
   {
    "duration": 41,
    "start_time": "2024-12-28T20:49:00.671Z"
   },
   {
    "duration": 6,
    "start_time": "2024-12-28T20:49:00.714Z"
   },
   {
    "duration": 6,
    "start_time": "2024-12-28T20:49:00.722Z"
   },
   {
    "duration": 14,
    "start_time": "2024-12-28T20:49:00.729Z"
   },
   {
    "duration": 6,
    "start_time": "2024-12-28T20:49:00.745Z"
   },
   {
    "duration": 310,
    "start_time": "2024-12-28T20:49:16.142Z"
   },
   {
    "duration": 118,
    "start_time": "2024-12-28T20:49:16.454Z"
   },
   {
    "duration": 8,
    "start_time": "2024-12-28T20:49:16.574Z"
   },
   {
    "duration": 35,
    "start_time": "2024-12-28T20:49:16.584Z"
   },
   {
    "duration": 3,
    "start_time": "2024-12-28T20:49:16.620Z"
   },
   {
    "duration": 3,
    "start_time": "2024-12-28T20:49:16.625Z"
   },
   {
    "duration": 4,
    "start_time": "2024-12-28T20:49:16.630Z"
   },
   {
    "duration": 18,
    "start_time": "2024-12-28T20:49:16.635Z"
   },
   {
    "duration": 9,
    "start_time": "2024-12-28T20:49:16.655Z"
   },
   {
    "duration": 47,
    "start_time": "2024-12-28T20:49:16.667Z"
   },
   {
    "duration": 41,
    "start_time": "2024-12-28T20:49:16.716Z"
   },
   {
    "duration": 58,
    "start_time": "2024-12-28T20:49:16.758Z"
   },
   {
    "duration": 46,
    "start_time": "2024-12-28T20:49:16.818Z"
   },
   {
    "duration": 54,
    "start_time": "2024-12-28T20:49:16.866Z"
   },
   {
    "duration": 5,
    "start_time": "2024-12-28T20:49:16.922Z"
   },
   {
    "duration": 4,
    "start_time": "2024-12-28T20:49:16.928Z"
   },
   {
    "duration": 22,
    "start_time": "2024-12-28T20:49:16.933Z"
   },
   {
    "duration": 6,
    "start_time": "2024-12-28T20:49:16.956Z"
   },
   {
    "duration": 9,
    "start_time": "2024-12-28T20:49:16.964Z"
   },
   {
    "duration": 41,
    "start_time": "2024-12-28T20:49:16.975Z"
   },
   {
    "duration": 6,
    "start_time": "2024-12-28T20:49:17.018Z"
   },
   {
    "duration": 5,
    "start_time": "2024-12-28T20:49:17.026Z"
   },
   {
    "duration": 11,
    "start_time": "2024-12-28T20:49:17.032Z"
   },
   {
    "duration": 5,
    "start_time": "2024-12-28T20:49:17.044Z"
   },
   {
    "duration": 2056,
    "start_time": "2025-03-15T03:56:54.076Z"
   }
  ],
  "kernelspec": {
   "display_name": "Python 3 (ipykernel)",
   "language": "python",
   "name": "python3"
  },
  "language_info": {
   "codemirror_mode": {
    "name": "ipython",
    "version": 3
   },
   "file_extension": ".py",
   "mimetype": "text/x-python",
   "name": "python",
   "nbconvert_exporter": "python",
   "pygments_lexer": "ipython3",
   "version": "3.9.19"
  },
  "toc": {
   "base_numbering": 1,
   "nav_menu": {},
   "number_sections": true,
   "sideBar": true,
   "skip_h1_title": true,
   "title_cell": "Table of Contents",
   "title_sidebar": "Contents",
   "toc_cell": false,
   "toc_position": {},
   "toc_section_display": true,
   "toc_window_display": false
  }
 },
 "nbformat": 4,
 "nbformat_minor": 5
}
